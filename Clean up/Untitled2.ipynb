{
 "cells": [
  {
   "cell_type": "code",
   "execution_count": 3,
   "id": "412b93f3",
   "metadata": {},
   "outputs": [
    {
     "ename": "SyntaxError",
     "evalue": "invalid syntax (4158692958.py, line 1)",
     "output_type": "error",
     "traceback": [
      "\u001b[1;36m  File \u001b[1;32m\"C:\\Users\\lawua\\AppData\\Local\\Temp\\ipykernel_22080\\4158692958.py\"\u001b[1;36m, line \u001b[1;32m1\u001b[0m\n\u001b[1;33m    CREATE TABLE \"Campaign\" (\u001b[0m\n\u001b[1;37m           ^\u001b[0m\n\u001b[1;31mSyntaxError\u001b[0m\u001b[1;31m:\u001b[0m invalid syntax\n"
     ]
    }
   ],
   "source": [
    "\n",
    "CREATE TABLE \"Campaign\" (\n",
    "    \"cf_id\" int   NOT NULL,\n",
    "    \"contact_id\" int   NOT NULL,\n",
    "    \"company_name\" varchar(100)   NOT NULL,\n",
    "    \"description\" text   NOT NULL,\n",
    "    \"goal\" numeric(10,2)   NOT NULL,\n",
    "    \"pledged\" numeric(10,2)   NOT NULL,\n",
    "    \"outcome\" varchar(50)   NOT NULL,\n",
    "    \"backers_count\" int   NOT NULL,\n",
    "    \"country\" varchar(10)   NOT NULL,\n",
    "    \"currency\" varchar(10)   NOT NULL,\n",
    "    \"launch_date\" date   NOT NULL,\n",
    "    \"end_date\" date   NOT NULL,\n",
    "    \"category_id\" varchar(10)   NOT NULL,\n",
    "    \"subcategory_id\" varchar(10)   NOT NULL,\n",
    "    CONSTRAINT \"pk_campaign\" PRIMARY KEY (\n",
    "        \"cf_id\"\n",
    "     )\n",
    ");\n",
    "\n",
    "CREATE TABLE \"category\" (\n",
    "    \"category_id\" varchar(10)   NOT NULL,\n",
    "    \"category_name\" varchar(50)   NOT NULL,\n",
    "    CONSTRAINT \"pk_category\" PRIMARY KEY (\n",
    "        \"category_id\"\n",
    "     )\n",
    ");\n",
    "\n",
    "CREATE TABLE \"subcategory\" (\n",
    "    \"subcategory_id\" varchar(10)   NOT NULL,\n",
    "    \"subcategory_name\" varchar(50)   NOT NULL,\n",
    "    CONSTRAINT \"pk_subcategory\" PRIMARY KEY (\n",
    "        \"subcategory_id\"\n",
    "     )\n",
    ");\n",
    "\n",
    "CREATE TABLE \"contacts\" (\n",
    "    \"contact_id\" int   NOT NULL,\n",
    "    \"first_name\" varchar(50)   NOT NULL,\n",
    "    \"last_name\" varchar(50)   NOT NULL,\n",
    "    \"email\" varchar(100)   NOT NULL,\n",
    "    CONSTRAINT \"pk_contacts\" PRIMARY KEY (\n",
    "        \"contact_id\"\n",
    "     )\n",
    ");\n",
    "\n",
    "ALTER TABLE \"campaign\" ADD CONSTRAINT \"fk_campaign_contact_id\" FOREIGN KEY(\"contact_id\")\n",
    "REFERENCES \"contacts\" (\"contact_id\");\n",
    "\n",
    "ALTER TABLE \"campaign\" ADD CONSTRAINT \"fk_campaign_category_id\" FOREIGN KEY(\"category_id\")\n",
    "REFERENCES \"category\" (\"category_id\");\n",
    "\n",
    "ALTER TABLE \"campaign\" ADD CONSTRAINT \"fk_campaign_subcategory_id\" FOREIGN KEY(\"subcategory_id\")\n",
    "REFERENCES \"subcategory\" (\"subcategory_id\");"
   ]
  },
  {
   "cell_type": "code",
   "execution_count": null,
   "id": "1121ea34",
   "metadata": {},
   "outputs": [],
   "source": []
  }
 ],
 "metadata": {
  "kernelspec": {
   "display_name": "PythonData",
   "language": "python",
   "name": "pythondata"
  },
  "language_info": {
   "codemirror_mode": {
    "name": "ipython",
    "version": 3
   },
   "file_extension": ".py",
   "mimetype": "text/x-python",
   "name": "python",
   "nbconvert_exporter": "python",
   "pygments_lexer": "ipython3",
   "version": "3.9.13"
  }
 },
 "nbformat": 4,
 "nbformat_minor": 5
}
